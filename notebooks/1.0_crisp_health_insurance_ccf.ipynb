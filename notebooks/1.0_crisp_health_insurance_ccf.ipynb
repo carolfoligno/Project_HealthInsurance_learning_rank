{
 "cells": [
  {
   "cell_type": "markdown",
   "id": "e611d8a3",
   "metadata": {},
   "source": [
    "## O PROBLEMA DE NEGÓCIO"
   ]
  },
  {
   "cell_type": "markdown",
   "id": "cf624240",
   "metadata": {},
   "source": [
    "**A Empresa Insurance All**\n",
    "\n",
    "A Insurance All é uma empresa que fornece seguro de saúde para seus clientes e o time de produtos está analisando a possibilidade de oferecer aos assegurados, **um novo produto: Um seguro de automóveis.**\n",
    "\n",
    "Assim como o seguro de saúde, os clientes desse novo plano de seguro de automóveis precisam pagar um valor anualmente à Insurance All para obter um valor assegurado pela empresa, destinado aos custos de um eventual acidente ou dano ao veículo.\n",
    "\n",
    "A Insurance All fez uma **pesquisa** com cerca de **380 mil clientes** sobre o interesse em aderir a um novo produto de seguro de automóveis, no ano passado. Todos os clientes demonstraram interesse ou não em adquirir o seguro de automóvel e essas respostas ficaram salvas em um banco de dados junto com outros atributos dos clientes.\n",
    "\n",
    "O time de produtos selecionou **127 mil novos clientes que não responderam a pesquisa** para participar de uma campanha, no qual receberão a oferta do novo produto de seguro de automóveis. A oferta será feita pelo time de vendas através de ligações telefônicas.\n",
    "Contudo, o time de vendas tem uma **capacidade de realizar 20 mil ligações** dentro do período da campanha."
   ]
  },
  {
   "cell_type": "markdown",
   "id": "66219e22",
   "metadata": {},
   "source": [
    "**OBJETIVO:**\n",
    "\n",
    "- Ordenar uma lista de clientes mais propensos a aceitar o novo produto, pela limitada capacidade de ligações.\n",
    "- Sendo um problema de Rankeamento."
   ]
  },
  {
   "cell_type": "markdown",
   "id": "b40b3b6a",
   "metadata": {},
   "source": [
    "## Imports"
   ]
  },
  {
   "cell_type": "code",
   "execution_count": 1,
   "id": "5bd8ca5e",
   "metadata": {
    "ExecuteTime": {
     "end_time": "2023-03-22T17:30:40.932703Z",
     "start_time": "2023-03-22T17:30:39.691650Z"
    }
   },
   "outputs": [],
   "source": [
    "import pickle\n",
    "import random\n",
    "import pandas                 as pd\n",
    "import numpy                  as np\n",
    "import seaborn                as sns\n",
    "import matplotlib.pyplot      as plt\n",
    "import scikitplot             as skplt\n",
    "\n",
    "from scipy                   import stats\n",
    "from sklearn                 import model_selection  as ms\n",
    "from sklearn                 import preprocessing    as pp\n",
    "from category_encoders       import TargetEncoder\n",
    "from sklearn                 import ensemble         as en\n",
    "from sklearn                 import neighbors        as nh\n",
    "from sklearn.metrics         import accuracy_score\n",
    "from sklearn                 import linear_model     as lm\n",
    "\n",
    "\n",
    "\n",
    "from sklearn.model_selection import GridSearchCV, RandomizedSearchCV\n",
    "\n",
    "\n",
    "%matplotlib inline \n",
    "# usar esse comando para não precisar dar plt.show em cada gráfico\n",
    "\n",
    "plt.style.use('seaborn-v0_8-dark')"
   ]
  },
  {
   "cell_type": "markdown",
   "id": "91b398a4",
   "metadata": {},
   "source": [
    "## Function"
   ]
  },
  {
   "cell_type": "code",
   "execution_count": 7,
   "id": "5d739806",
   "metadata": {
    "ExecuteTime": {
     "end_time": "2023-03-22T17:32:27.794847Z",
     "start_time": "2023-03-22T17:32:27.781281Z"
    }
   },
   "outputs": [],
   "source": [
    "def data_cleaning(df_raw):\n",
    "\n",
    "    colunas = df_raw.columns\n",
    "\n",
    "    new_cols = [i.lower() for i in colunas]\n",
    "\n",
    "    df_raw.columns = new_cols\n",
    "\n",
    "    return df_raw\n",
    "\n",
    "def feature_engineering(df1):\n",
    "    # transformando as colunas region_code e policy_Sales_channel no tipo de variavel inteiro\n",
    "\n",
    "    df1['region_code'] = df1['region_code'].astype(int)\n",
    "    df1['policy_sales_channel'] = df1['policy_sales_channel'].astype(int)\n",
    "\n",
    "    df1['age_group'] = df1.apply(lambda x: 'young' if x['age'] < 25 else\n",
    "                        'adult' if x['age'] < 45 else\n",
    "                         'old_adult' if x['age'] < 60 else\n",
    "                        'old', axis = 1)\n",
    "\n",
    "    return df1\n",
    "\n",
    "def precision_at_k(data, k=2000):\n",
    "    # reset index\n",
    "    data = data.reset_index(drop = True)\n",
    "\n",
    "    # create ranking order\n",
    "    data['ranking'] = data.index + 1\n",
    "\n",
    "    data['precision_at_k'] = data['response'].cumsum() / data['ranking']\n",
    "\n",
    "    return data.loc[k, 'precision_at_k']\n",
    "    \n",
    "def recall_at_k(data, k=2000):\n",
    "\n",
    "    # reset index\n",
    "    data = data.reset_index(drop = True)\n",
    "\n",
    "    # create ranking order\n",
    "    data['ranking'] = data.index + 1\n",
    "\n",
    "    data['recall_at_k'] = data['response'].cumsum() / data['response'].sum()\n",
    "\n",
    "    return data.loc[k, 'recall_at_k']\n",
    "    \n",
    "def preprocessing_cv(X_data, Y_data):  \n",
    "    \n",
    "    df_data = pd.concat([X_data, Y_data], axis=1) # juntar as variaveis preditoras com a variavel alvo\n",
    "    \n",
    "    df_data['vintage'] = mms_vintage.transform(df_data[['vintage']].values)\n",
    "    \n",
    "    df_data['annual_premium'] = ss.transform(df_data[['annual_premium']].values)\n",
    "    \n",
    "    df_data['age'] = mms_age.transform(df_data[['age']].values)\n",
    "    \n",
    "    df_data['region_code'] = df_data['region_code'].astype(str)\n",
    "    df_data['region_code'] = target_encode_region.transform(df_data['region_code'])\n",
    "    \n",
    "    df_data['vehicle_damage'] = df_data['vehicle_damage'].map(damage_dict)\n",
    "    \n",
    "    df_data['policy_sales_channel'] = df_data['policy_sales_channel'].map(fe_policy_sales_channel)\n",
    "    \n",
    "    df_data['gender'] = target_encode_gender.transform(df_data['gender'])\n",
    "\n",
    "    df_data = pd.get_dummies(df_data, prefix='vehicle_age', columns=['vehicle_age'])\n",
    "\n",
    "    df_data['age_group'] = df_data['age_group'].map(age_group_dict)\n",
    "    df_data = df_data.fillna(0)\n",
    "    \n",
    "    # Feature selection\n",
    "    cols_selected = ['vintage', 'annual_premium', 'age', 'region_code', 'vehicle_damage', \n",
    "                 'policy_sales_channel', 'previously_insured']\n",
    "    \n",
    "    X_data = df_data[cols_selected]\n",
    "    Y_data = df_data['response']\n",
    "    \n",
    "    \n",
    "    return X_data, Y_data\n",
    "\n",
    "def cross_validation(model_name, model, X_train, Y_train, k, verbose=False):\n",
    "    precision_k_list = []\n",
    "    recall_k_list = []\n",
    "\n",
    "    # data preparation\n",
    "    X_train_cv, Y_train_cv = preprocessing_cv(X_train, Y_train)\n",
    "\n",
    "\n",
    "    kfs = ms.StratifiedKFold(n_splits=5, shuffle=True, random_state=5)\n",
    "\n",
    "    for train_index, test_index in kfs.split(X_train_cv, Y_train_cv):\n",
    "\n",
    "        x_train_cv = X_train_cv.iloc[train_index]\n",
    "        y_train_cv = Y_train_cv.iloc[train_index]\n",
    "\n",
    "        x_val_cv = X_train_cv.iloc[test_index]\n",
    "        y_val_cv = Y_train_cv.iloc[test_index]\n",
    "\n",
    "        model.fit(x_train_cv, y_train_cv)\n",
    "\n",
    "        # prediction\n",
    "        yhat = model.predict_proba(x_val_cv)\n",
    "        yhat_pred = model.predict(x_val_cv)\n",
    "\n",
    "        # adicionando x e y num dataframe \n",
    "        data = x_val_cv.copy()\n",
    "        data['response'] = y_val_cv.copy()\n",
    "\n",
    "        # coluna score no dataframe\n",
    "        data['score'] = yhat[:, 1].tolist()\n",
    "\n",
    "        data = data.sort_values('score', ascending = False)\n",
    "\n",
    "        # performance\n",
    "        precision_k = precision_at_k(data, k)\n",
    "        precision_k_list.append(precision_k)\n",
    "\n",
    "        recall_k = recall_at_k(data, k)\n",
    "        recall_k_list.append(recall_k)\n",
    "\n",
    "        acc = accuracy_score(y_val_cv, yhat_pred)\n",
    "\n",
    "        return pd.DataFrame({'Precision @k CV': np.round(np.mean(precision_k_list), 3),\n",
    "                         'Recall @k CV': np.round(np.mean(recall_k_list), 3),\n",
    "                         'Accuracy': np.round(np.mean(acc), 3)},index=[model_name])\n",
    "\n"
   ]
  },
  {
   "cell_type": "markdown",
   "id": "779913dd",
   "metadata": {},
   "source": [
    "## Carregando os dados"
   ]
  },
  {
   "cell_type": "code",
   "execution_count": 8,
   "id": "d3d0df23",
   "metadata": {
    "ExecuteTime": {
     "end_time": "2023-03-22T17:32:29.148785Z",
     "start_time": "2023-03-22T17:32:28.945522Z"
    }
   },
   "outputs": [],
   "source": [
    "df_raw = pd.read_csv('data/train.csv')"
   ]
  },
  {
   "cell_type": "markdown",
   "id": "d0c0c877",
   "metadata": {},
   "source": [
    "## Limpeza dos Dados"
   ]
  },
  {
   "cell_type": "code",
   "execution_count": 9,
   "id": "5dac0359",
   "metadata": {
    "ExecuteTime": {
     "end_time": "2023-03-22T17:32:29.959511Z",
     "start_time": "2023-03-22T17:32:29.957061Z"
    }
   },
   "outputs": [],
   "source": [
    "df1 = data_cleaning(df_raw)"
   ]
  },
  {
   "cell_type": "markdown",
   "id": "c895daf9",
   "metadata": {},
   "source": [
    "## Feature Engineering"
   ]
  },
  {
   "cell_type": "code",
   "execution_count": 10,
   "id": "23d9f84d",
   "metadata": {
    "ExecuteTime": {
     "end_time": "2023-03-22T17:32:33.284794Z",
     "start_time": "2023-03-22T17:32:31.103631Z"
    }
   },
   "outputs": [],
   "source": [
    "df2 = feature_engineering(df_raw)"
   ]
  },
  {
   "cell_type": "markdown",
   "id": "1c2b1812",
   "metadata": {},
   "source": [
    "## Data Split"
   ]
  },
  {
   "cell_type": "code",
   "execution_count": 11,
   "id": "f5972323",
   "metadata": {
    "ExecuteTime": {
     "end_time": "2023-03-22T17:32:33.305727Z",
     "start_time": "2023-03-22T17:32:33.286295Z"
    }
   },
   "outputs": [],
   "source": [
    "df3 = df2.copy()"
   ]
  },
  {
   "cell_type": "code",
   "execution_count": 12,
   "id": "1e69bc80",
   "metadata": {
    "ExecuteTime": {
     "end_time": "2023-03-22T17:32:35.039848Z",
     "start_time": "2023-03-22T17:32:35.026377Z"
    }
   },
   "outputs": [
    {
     "data": {
      "text/html": [
       "<div>\n",
       "<style scoped>\n",
       "    .dataframe tbody tr th:only-of-type {\n",
       "        vertical-align: middle;\n",
       "    }\n",
       "\n",
       "    .dataframe tbody tr th {\n",
       "        vertical-align: top;\n",
       "    }\n",
       "\n",
       "    .dataframe thead th {\n",
       "        text-align: right;\n",
       "    }\n",
       "</style>\n",
       "<table border=\"1\" class=\"dataframe\">\n",
       "  <thead>\n",
       "    <tr style=\"text-align: right;\">\n",
       "      <th></th>\n",
       "      <th>id</th>\n",
       "      <th>gender</th>\n",
       "      <th>age</th>\n",
       "      <th>driving_license</th>\n",
       "      <th>region_code</th>\n",
       "      <th>previously_insured</th>\n",
       "      <th>vehicle_age</th>\n",
       "      <th>vehicle_damage</th>\n",
       "      <th>annual_premium</th>\n",
       "      <th>policy_sales_channel</th>\n",
       "      <th>vintage</th>\n",
       "      <th>response</th>\n",
       "      <th>age_group</th>\n",
       "    </tr>\n",
       "  </thead>\n",
       "  <tbody>\n",
       "    <tr>\n",
       "      <th>0</th>\n",
       "      <td>1</td>\n",
       "      <td>Male</td>\n",
       "      <td>44</td>\n",
       "      <td>1</td>\n",
       "      <td>28</td>\n",
       "      <td>0</td>\n",
       "      <td>&gt; 2 Years</td>\n",
       "      <td>Yes</td>\n",
       "      <td>40454.0</td>\n",
       "      <td>26</td>\n",
       "      <td>217</td>\n",
       "      <td>1</td>\n",
       "      <td>adult</td>\n",
       "    </tr>\n",
       "    <tr>\n",
       "      <th>1</th>\n",
       "      <td>2</td>\n",
       "      <td>Male</td>\n",
       "      <td>76</td>\n",
       "      <td>1</td>\n",
       "      <td>3</td>\n",
       "      <td>0</td>\n",
       "      <td>1-2 Year</td>\n",
       "      <td>No</td>\n",
       "      <td>33536.0</td>\n",
       "      <td>26</td>\n",
       "      <td>183</td>\n",
       "      <td>0</td>\n",
       "      <td>old</td>\n",
       "    </tr>\n",
       "    <tr>\n",
       "      <th>2</th>\n",
       "      <td>3</td>\n",
       "      <td>Male</td>\n",
       "      <td>47</td>\n",
       "      <td>1</td>\n",
       "      <td>28</td>\n",
       "      <td>0</td>\n",
       "      <td>&gt; 2 Years</td>\n",
       "      <td>Yes</td>\n",
       "      <td>38294.0</td>\n",
       "      <td>26</td>\n",
       "      <td>27</td>\n",
       "      <td>1</td>\n",
       "      <td>old_adult</td>\n",
       "    </tr>\n",
       "    <tr>\n",
       "      <th>3</th>\n",
       "      <td>4</td>\n",
       "      <td>Male</td>\n",
       "      <td>21</td>\n",
       "      <td>1</td>\n",
       "      <td>11</td>\n",
       "      <td>1</td>\n",
       "      <td>&lt; 1 Year</td>\n",
       "      <td>No</td>\n",
       "      <td>28619.0</td>\n",
       "      <td>152</td>\n",
       "      <td>203</td>\n",
       "      <td>0</td>\n",
       "      <td>young</td>\n",
       "    </tr>\n",
       "    <tr>\n",
       "      <th>4</th>\n",
       "      <td>5</td>\n",
       "      <td>Female</td>\n",
       "      <td>29</td>\n",
       "      <td>1</td>\n",
       "      <td>41</td>\n",
       "      <td>1</td>\n",
       "      <td>&lt; 1 Year</td>\n",
       "      <td>No</td>\n",
       "      <td>27496.0</td>\n",
       "      <td>152</td>\n",
       "      <td>39</td>\n",
       "      <td>0</td>\n",
       "      <td>adult</td>\n",
       "    </tr>\n",
       "  </tbody>\n",
       "</table>\n",
       "</div>"
      ],
      "text/plain": [
       "   id  gender  age  driving_license  region_code  previously_insured  \\\n",
       "0   1    Male   44                1           28                   0   \n",
       "1   2    Male   76                1            3                   0   \n",
       "2   3    Male   47                1           28                   0   \n",
       "3   4    Male   21                1           11                   1   \n",
       "4   5  Female   29                1           41                   1   \n",
       "\n",
       "  vehicle_age vehicle_damage  annual_premium  policy_sales_channel  vintage  \\\n",
       "0   > 2 Years            Yes         40454.0                    26      217   \n",
       "1    1-2 Year             No         33536.0                    26      183   \n",
       "2   > 2 Years            Yes         38294.0                    26       27   \n",
       "3    < 1 Year             No         28619.0                   152      203   \n",
       "4    < 1 Year             No         27496.0                   152       39   \n",
       "\n",
       "   response  age_group  \n",
       "0         1      adult  \n",
       "1         0        old  \n",
       "2         1  old_adult  \n",
       "3         0      young  \n",
       "4         0      adult  "
      ]
     },
     "execution_count": 12,
     "metadata": {},
     "output_type": "execute_result"
    }
   ],
   "source": [
    "df3.head()"
   ]
  },
  {
   "cell_type": "markdown",
   "id": "592cfbea",
   "metadata": {},
   "source": [
    "**VALIDAÇÃO HOLDOUT**\n",
    "\n",
    "- Dataset (100%) -> Treino(80%) e Teste(20%)\n",
    "- Treino(80%) -> treino(60%) e validação(20%)\n",
    "\n",
    "**Treino(60%), Validação(20%) e Teste(20%)**\n",
    "\n",
    "Treino -> Treinamento do Modelo\n",
    "\n",
    "Validação -> Encontrar o melhor parametro para o modelo\n",
    "\n",
    "Treino + Validação + melhor parametro -> Medir a capacidade de generalização com o Teste"
   ]
  },
  {
   "cell_type": "markdown",
   "id": "68aa13f9",
   "metadata": {},
   "source": [
    "**NOTA:**\n",
    "- Os dados de teste já foram separados inicialmente. "
   ]
  },
  {
   "cell_type": "code",
   "execution_count": 13,
   "id": "d1c5b1da",
   "metadata": {
    "ExecuteTime": {
     "end_time": "2023-03-22T17:32:42.650148Z",
     "start_time": "2023-03-22T17:32:42.629792Z"
    }
   },
   "outputs": [],
   "source": [
    "X = df3.drop('response', axis=1) # apenas variaveis preditoras\n",
    "y = df3['response'].copy() # apenas a variavel alvo"
   ]
  },
  {
   "cell_type": "markdown",
   "id": "d43ce076",
   "metadata": {},
   "source": [
    "**Dataset (100%) -> Treino(80%) e Teste(20%)**"
   ]
  },
  {
   "cell_type": "code",
   "execution_count": 14,
   "id": "f20e6a38",
   "metadata": {
    "ExecuteTime": {
     "end_time": "2023-03-22T17:32:44.622760Z",
     "start_time": "2023-03-22T17:32:44.557104Z"
    }
   },
   "outputs": [],
   "source": [
    "X_train, x_test, Y_train, y_test = ms.train_test_split(X, y, test_size=0.20)"
   ]
  },
  {
   "cell_type": "markdown",
   "id": "a4a73b80",
   "metadata": {},
   "source": [
    "**Treino(80%) -> treino(60%) e validação(20%)**"
   ]
  },
  {
   "cell_type": "code",
   "execution_count": 15,
   "id": "1c850fb0",
   "metadata": {
    "ExecuteTime": {
     "end_time": "2023-03-22T17:32:45.465505Z",
     "start_time": "2023-03-22T17:32:45.413432Z"
    }
   },
   "outputs": [],
   "source": [
    "x_train, x_validation, y_train, y_validation = ms.train_test_split(X_train, Y_train, test_size=0.20)"
   ]
  },
  {
   "cell_type": "code",
   "execution_count": 16,
   "id": "8c74e35c",
   "metadata": {
    "ExecuteTime": {
     "end_time": "2023-03-22T17:32:45.887631Z",
     "start_time": "2023-03-22T17:32:45.870653Z"
    }
   },
   "outputs": [],
   "source": [
    "df_train = pd.concat([x_train, y_train], axis=1) # juntar as variaveis preditoras com a variavel alvo\n"
   ]
  },
  {
   "cell_type": "markdown",
   "id": "1928dd62",
   "metadata": {
    "heading_collapsed": true
   },
   "source": [
    "## Data Preparation - df_train"
   ]
  },
  {
   "cell_type": "markdown",
   "id": "ea5c4b08",
   "metadata": {
    "hidden": true
   },
   "source": [
    "### Standardization"
   ]
  },
  {
   "cell_type": "markdown",
   "id": "a86662fd",
   "metadata": {
    "hidden": true
   },
   "source": [
    "- Rescala o centro da distribuição dos dados para a média 0 com desvio padrão igual a 1.\n",
    "- Não retira os outliers (valores extremos).\n",
    "- Distribuição Gaussianas - para distribuição normal."
   ]
  },
  {
   "cell_type": "code",
   "execution_count": 17,
   "id": "367bfae1",
   "metadata": {
    "ExecuteTime": {
     "end_time": "2023-03-22T17:33:07.216668Z",
     "start_time": "2023-03-22T17:33:07.196160Z"
    },
    "hidden": true
   },
   "outputs": [],
   "source": [
    "ss = pp.StandardScaler()\n",
    "# 'annual_premium'\n",
    "df_train['annual_premium'] = ss.fit_transform(df_train[['annual_premium']].values)"
   ]
  },
  {
   "cell_type": "code",
   "execution_count": null,
   "id": "a9b8b5c5",
   "metadata": {
    "ExecuteTime": {
     "end_time": "2023-03-21T17:45:52.842485Z",
     "start_time": "2023-03-21T17:45:52.840249Z"
    },
    "hidden": true
   },
   "outputs": [],
   "source": [
    "# # save \n",
    "# pickle.dump(ss, open('features/annual_premium_scaler.pkl', 'wb'))"
   ]
  },
  {
   "cell_type": "markdown",
   "id": "ce346366",
   "metadata": {
    "hidden": true
   },
   "source": [
    "### Rescaling"
   ]
  },
  {
   "cell_type": "markdown",
   "id": "8d75bec0",
   "metadata": {
    "hidden": true
   },
   "source": [
    "**Modificação: em relação ao range, colocar todos na mesma escala.**\n",
    "\n",
    "1. Rescala para o intervalo entre 0 e 1.\n",
    "2. Distribuição não Gaussianas - Distrubuição não Normal\n",
    "\n",
    "**Fórmula Min-Max:**\n",
    "- Quando eu não tenho uma distribuição normal, utilizo Min-Max Scaler.\n",
    "\n",
    "**Fórmula Robust Scaler:**\n",
    "- Para lidar com dados que contém outilers. \n",
    "- Pode utilizar tanto numa distribuição normal ou não normal. Mas que tenha outliers."
   ]
  },
  {
   "cell_type": "code",
   "execution_count": 18,
   "id": "9ee3aad5",
   "metadata": {
    "ExecuteTime": {
     "end_time": "2023-03-22T17:33:11.180389Z",
     "start_time": "2023-03-22T17:33:11.172694Z"
    },
    "hidden": true
   },
   "outputs": [],
   "source": [
    "# 'age'\n",
    "mms_age = pp.MinMaxScaler()\n",
    "\n",
    "df_train['age'] = mms_age.fit_transform(df_train[['age']].values)"
   ]
  },
  {
   "cell_type": "code",
   "execution_count": 19,
   "id": "abc52d57",
   "metadata": {
    "ExecuteTime": {
     "end_time": "2023-03-22T17:33:11.537148Z",
     "start_time": "2023-03-22T17:33:11.528005Z"
    },
    "hidden": true
   },
   "outputs": [],
   "source": [
    "# 'vintage'\n",
    "mms_vintage = pp.MinMaxScaler()\n",
    "\n",
    "df_train['vintage'] = mms_vintage.fit_transform(df_train[['vintage']].values)"
   ]
  },
  {
   "cell_type": "code",
   "execution_count": 20,
   "id": "7f884f6c",
   "metadata": {
    "ExecuteTime": {
     "end_time": "2023-03-22T17:33:14.098933Z",
     "start_time": "2023-03-22T17:33:14.093820Z"
    },
    "hidden": true
   },
   "outputs": [],
   "source": [
    "# pickle.dump(mms_age, open('features/age_scaler.pkl', 'wb'))\n",
    "# pickle.dump(mms_vintage, open('features/vintage_scaler.pkl', 'wb'))"
   ]
  },
  {
   "cell_type": "markdown",
   "id": "9fc57383",
   "metadata": {
    "ExecuteTime": {
     "end_time": "2023-03-10T12:48:36.899152Z",
     "start_time": "2023-03-10T12:48:36.887300Z"
    },
    "hidden": true
   },
   "source": [
    "### Encoder"
   ]
  },
  {
   "cell_type": "markdown",
   "id": "d6ddc234",
   "metadata": {
    "hidden": true
   },
   "source": [
    "Muda a variável de categórica para numérica sem mudar o conteúdo de informação.\n",
    "\n",
    "**Tipos de Enconding usados:**\n",
    "- Target Enconding\n",
    "\n",
    "    - cada categoria é substituída por um único valor numérico, bem mais compacta que o One Hot.\n",
    "    - Esse valor numérico é derivado do valor médio da variável alvo para cada categoria da variável categórica.\n",
    "    \n",
    "- One Hot Enconding\n",
    "\n",
    "    - representação de variáveis categóricas como vetores binários.\n",
    "    - A dimensão correspondente à categoria é definida como 1 e todas as outras dimensões são definidas como 0.\n",
    "    - transformam cada categoria em uma nova coluna binária\n",
    "    \n",
    "- Frenquency Econding\n",
    "\n",
    "    - Substitui o valor categorico pela sua frequencia de ocorrencia de cada categoria na variavel."
   ]
  },
  {
   "cell_type": "code",
   "execution_count": 21,
   "id": "20973945",
   "metadata": {
    "ExecuteTime": {
     "end_time": "2023-03-22T17:33:23.460635Z",
     "start_time": "2023-03-22T17:33:23.002048Z"
    },
    "hidden": true
   },
   "outputs": [],
   "source": [
    "# 'vehicle_age' \n",
    "# get_dummies é uma alternativa ao One Hot Enconde do scikit-lean\n",
    "\n",
    "df_train = pd.get_dummies(df_train, prefix='vehicle_age', columns=['vehicle_age'])\n",
    "\n",
    "# 'gender'\n",
    "# target_enconder substituindo o valor categorico pela média da variavel alvo para cada categoria\n",
    "\n",
    "target_encode_gender = TargetEncoder()\n",
    "\n",
    "df_train['gender'] = target_encode_gender.fit_transform(df_train['gender'], df_train['response'])\n",
    "\n",
    "# 'region_code'\n",
    "\n",
    "target_encode_region = TargetEncoder()\n",
    "df_train['region_code'] = df_train['region_code'].astype(str)\n",
    "df_train['region_code'] = target_encode_region.fit_transform(df_train['region_code'], df_train['response']) \n",
    "\n",
    "# 'policy_sales_channel' - Frenquency Enconding \n",
    "\n",
    "fe_policy_sales_channel = df_train.groupby('policy_sales_channel').size() / len(df_train)\n",
    "df_train.loc[:,'policy_sales_channel'] = df_train['policy_sales_channel'].map(fe_policy_sales_channel)\n",
    "\n",
    "# vehicle_damage - label enconding\n",
    "damage_dict = {'No': 0, 'Yes': 1}\n",
    "df_train['vehicle_damage'] = df_train['vehicle_damage'].map(damage_dict)\n",
    "\n",
    "# age_group - ordinal enconding\n",
    "age_group_dict = {'young': 0, 'adult': 1, 'old_adult': 2, 'old': 3}\n",
    "df_train['age_group'] = df_train['age_group'].map(age_group_dict)"
   ]
  },
  {
   "cell_type": "code",
   "execution_count": 22,
   "id": "a33b8f81",
   "metadata": {
    "ExecuteTime": {
     "end_time": "2023-03-22T17:33:23.483996Z",
     "start_time": "2023-03-22T17:33:23.481664Z"
    },
    "hidden": true
   },
   "outputs": [],
   "source": [
    "# # save \n",
    "# pickle.dump(target_encode_gender, open('features/target_encode_gender.pkl', 'wb'))\n",
    "\n",
    "# pickle.dump(target_encode_region, open('features/target_encode_region.pkl', 'wb'))\n",
    "\n",
    "# pickle.dump(fe_policy_sales_channel, open('features/fe_policy_sales_channel.pkl', 'wb'))"
   ]
  },
  {
   "cell_type": "markdown",
   "id": "767b4367",
   "metadata": {
    "heading_collapsed": true
   },
   "source": [
    "## Data Preparation - Validação"
   ]
  },
  {
   "cell_type": "code",
   "execution_count": 23,
   "id": "20873431",
   "metadata": {
    "ExecuteTime": {
     "end_time": "2023-03-22T17:33:30.937906Z",
     "start_time": "2023-03-22T17:33:30.872359Z"
    },
    "hidden": true
   },
   "outputs": [],
   "source": [
    "x_validation['gender'] = target_encode_gender.transform(x_validation['gender'])\n",
    "\n",
    "x_validation = pd.get_dummies(x_validation, prefix='vehicle_age', columns=['vehicle_age'])\n",
    "\n",
    "x_validation['age'] = mms_age.transform(x_validation[['age']].values)\n",
    "\n",
    "x_validation['region_code'] = x_validation['region_code'].astype(str)\n",
    "x_validation['region_code'] = target_encode_region.transform(x_validation['region_code']) \n",
    "\n",
    "x_validation['annual_premium'] = ss.transform(x_validation[['annual_premium']].values)\n",
    "\n",
    "x_validation['policy_sales_channel'] = x_validation['policy_sales_channel'].map(fe_policy_sales_channel)\n",
    "\n",
    "x_validation['vintage'] = mms_vintage.transform(x_validation[['vintage']].values)\n",
    "\n",
    "x_validation['vehicle_damage'] = x_validation['vehicle_damage'].map(damage_dict)\n",
    "\n",
    "x_validation['age_group'] = x_validation['age_group'].map(age_group_dict)\n",
    "x_validation = x_validation.fillna(0)"
   ]
  },
  {
   "cell_type": "markdown",
   "id": "8b733716",
   "metadata": {},
   "source": [
    "## Feature Selection"
   ]
  },
  {
   "cell_type": "code",
   "execution_count": 24,
   "id": "781472c4",
   "metadata": {
    "ExecuteTime": {
     "end_time": "2023-03-22T17:33:45.957326Z",
     "start_time": "2023-03-22T17:33:45.947666Z"
    }
   },
   "outputs": [
    {
     "data": {
      "text/html": [
       "<div>\n",
       "<style scoped>\n",
       "    .dataframe tbody tr th:only-of-type {\n",
       "        vertical-align: middle;\n",
       "    }\n",
       "\n",
       "    .dataframe tbody tr th {\n",
       "        vertical-align: top;\n",
       "    }\n",
       "\n",
       "    .dataframe thead th {\n",
       "        text-align: right;\n",
       "    }\n",
       "</style>\n",
       "<table border=\"1\" class=\"dataframe\">\n",
       "  <thead>\n",
       "    <tr style=\"text-align: right;\">\n",
       "      <th></th>\n",
       "      <th>id</th>\n",
       "      <th>gender</th>\n",
       "      <th>age</th>\n",
       "      <th>driving_license</th>\n",
       "      <th>region_code</th>\n",
       "      <th>previously_insured</th>\n",
       "      <th>vehicle_damage</th>\n",
       "      <th>annual_premium</th>\n",
       "      <th>policy_sales_channel</th>\n",
       "      <th>vintage</th>\n",
       "      <th>age_group</th>\n",
       "      <th>response</th>\n",
       "      <th>vehicle_age_1-2 Year</th>\n",
       "      <th>vehicle_age_&lt; 1 Year</th>\n",
       "      <th>vehicle_age_&gt; 2 Years</th>\n",
       "    </tr>\n",
       "  </thead>\n",
       "  <tbody>\n",
       "    <tr>\n",
       "      <th>354259</th>\n",
       "      <td>354260</td>\n",
       "      <td>0.105667</td>\n",
       "      <td>0.138462</td>\n",
       "      <td>1</td>\n",
       "      <td>0.061728</td>\n",
       "      <td>1</td>\n",
       "      <td>0</td>\n",
       "      <td>0.092926</td>\n",
       "      <td>0.003948</td>\n",
       "      <td>0.384083</td>\n",
       "      <td>1</td>\n",
       "      <td>0</td>\n",
       "      <td>1</td>\n",
       "      <td>0</td>\n",
       "      <td>0</td>\n",
       "    </tr>\n",
       "    <tr>\n",
       "      <th>267324</th>\n",
       "      <td>267325</td>\n",
       "      <td>0.105667</td>\n",
       "      <td>0.046154</td>\n",
       "      <td>1</td>\n",
       "      <td>0.102768</td>\n",
       "      <td>1</td>\n",
       "      <td>0</td>\n",
       "      <td>-0.034777</td>\n",
       "      <td>0.352923</td>\n",
       "      <td>0.515571</td>\n",
       "      <td>0</td>\n",
       "      <td>0</td>\n",
       "      <td>0</td>\n",
       "      <td>1</td>\n",
       "      <td>0</td>\n",
       "    </tr>\n",
       "    <tr>\n",
       "      <th>15172</th>\n",
       "      <td>15173</td>\n",
       "      <td>0.138428</td>\n",
       "      <td>0.015385</td>\n",
       "      <td>1</td>\n",
       "      <td>0.102768</td>\n",
       "      <td>0</td>\n",
       "      <td>1</td>\n",
       "      <td>-0.112412</td>\n",
       "      <td>0.057116</td>\n",
       "      <td>0.920415</td>\n",
       "      <td>0</td>\n",
       "      <td>0</td>\n",
       "      <td>0</td>\n",
       "      <td>1</td>\n",
       "      <td>0</td>\n",
       "    </tr>\n",
       "    <tr>\n",
       "      <th>322553</th>\n",
       "      <td>322554</td>\n",
       "      <td>0.105667</td>\n",
       "      <td>0.015385</td>\n",
       "      <td>1</td>\n",
       "      <td>0.188786</td>\n",
       "      <td>1</td>\n",
       "      <td>0</td>\n",
       "      <td>1.132031</td>\n",
       "      <td>0.057116</td>\n",
       "      <td>0.083045</td>\n",
       "      <td>0</td>\n",
       "      <td>0</td>\n",
       "      <td>0</td>\n",
       "      <td>1</td>\n",
       "      <td>0</td>\n",
       "    </tr>\n",
       "    <tr>\n",
       "      <th>8005</th>\n",
       "      <td>8006</td>\n",
       "      <td>0.138428</td>\n",
       "      <td>0.030769</td>\n",
       "      <td>1</td>\n",
       "      <td>0.079298</td>\n",
       "      <td>1</td>\n",
       "      <td>0</td>\n",
       "      <td>-0.634821</td>\n",
       "      <td>0.208754</td>\n",
       "      <td>0.539792</td>\n",
       "      <td>0</td>\n",
       "      <td>0</td>\n",
       "      <td>0</td>\n",
       "      <td>1</td>\n",
       "      <td>0</td>\n",
       "    </tr>\n",
       "  </tbody>\n",
       "</table>\n",
       "</div>"
      ],
      "text/plain": [
       "            id    gender       age  driving_license  region_code  \\\n",
       "354259  354260  0.105667  0.138462                1     0.061728   \n",
       "267324  267325  0.105667  0.046154                1     0.102768   \n",
       "15172    15173  0.138428  0.015385                1     0.102768   \n",
       "322553  322554  0.105667  0.015385                1     0.188786   \n",
       "8005      8006  0.138428  0.030769                1     0.079298   \n",
       "\n",
       "        previously_insured  vehicle_damage  annual_premium  \\\n",
       "354259                   1               0        0.092926   \n",
       "267324                   1               0       -0.034777   \n",
       "15172                    0               1       -0.112412   \n",
       "322553                   1               0        1.132031   \n",
       "8005                     1               0       -0.634821   \n",
       "\n",
       "        policy_sales_channel   vintage  age_group  response  \\\n",
       "354259              0.003948  0.384083          1         0   \n",
       "267324              0.352923  0.515571          0         0   \n",
       "15172               0.057116  0.920415          0         0   \n",
       "322553              0.057116  0.083045          0         0   \n",
       "8005                0.208754  0.539792          0         0   \n",
       "\n",
       "        vehicle_age_1-2 Year  vehicle_age_< 1 Year  vehicle_age_> 2 Years  \n",
       "354259                     1                     0                      0  \n",
       "267324                     0                     1                      0  \n",
       "15172                      0                     1                      0  \n",
       "322553                     0                     1                      0  \n",
       "8005                       0                     1                      0  "
      ]
     },
     "execution_count": 24,
     "metadata": {},
     "output_type": "execute_result"
    }
   ],
   "source": [
    "df_train.head()"
   ]
  },
  {
   "cell_type": "code",
   "execution_count": 25,
   "id": "e7c27dea",
   "metadata": {
    "ExecuteTime": {
     "end_time": "2023-03-22T17:33:49.573827Z",
     "start_time": "2023-03-22T17:33:49.571207Z"
    }
   },
   "outputs": [],
   "source": [
    "## nesse caso nao faço o boruta, pois ele seleciona apenas duas variaveis para mim"
   ]
  },
  {
   "cell_type": "code",
   "execution_count": 26,
   "id": "840ba925",
   "metadata": {
    "ExecuteTime": {
     "end_time": "2023-03-22T17:34:06.302997Z",
     "start_time": "2023-03-22T17:33:56.277472Z"
    }
   },
   "outputs": [
    {
     "data": {
      "text/html": [
       "<style>#sk-container-id-1 {color: black;background-color: white;}#sk-container-id-1 pre{padding: 0;}#sk-container-id-1 div.sk-toggleable {background-color: white;}#sk-container-id-1 label.sk-toggleable__label {cursor: pointer;display: block;width: 100%;margin-bottom: 0;padding: 0.3em;box-sizing: border-box;text-align: center;}#sk-container-id-1 label.sk-toggleable__label-arrow:before {content: \"▸\";float: left;margin-right: 0.25em;color: #696969;}#sk-container-id-1 label.sk-toggleable__label-arrow:hover:before {color: black;}#sk-container-id-1 div.sk-estimator:hover label.sk-toggleable__label-arrow:before {color: black;}#sk-container-id-1 div.sk-toggleable__content {max-height: 0;max-width: 0;overflow: hidden;text-align: left;background-color: #f0f8ff;}#sk-container-id-1 div.sk-toggleable__content pre {margin: 0.2em;color: black;border-radius: 0.25em;background-color: #f0f8ff;}#sk-container-id-1 input.sk-toggleable__control:checked~div.sk-toggleable__content {max-height: 200px;max-width: 100%;overflow: auto;}#sk-container-id-1 input.sk-toggleable__control:checked~label.sk-toggleable__label-arrow:before {content: \"▾\";}#sk-container-id-1 div.sk-estimator input.sk-toggleable__control:checked~label.sk-toggleable__label {background-color: #d4ebff;}#sk-container-id-1 div.sk-label input.sk-toggleable__control:checked~label.sk-toggleable__label {background-color: #d4ebff;}#sk-container-id-1 input.sk-hidden--visually {border: 0;clip: rect(1px 1px 1px 1px);clip: rect(1px, 1px, 1px, 1px);height: 1px;margin: -1px;overflow: hidden;padding: 0;position: absolute;width: 1px;}#sk-container-id-1 div.sk-estimator {font-family: monospace;background-color: #f0f8ff;border: 1px dotted black;border-radius: 0.25em;box-sizing: border-box;margin-bottom: 0.5em;}#sk-container-id-1 div.sk-estimator:hover {background-color: #d4ebff;}#sk-container-id-1 div.sk-parallel-item::after {content: \"\";width: 100%;border-bottom: 1px solid gray;flex-grow: 1;}#sk-container-id-1 div.sk-label:hover label.sk-toggleable__label {background-color: #d4ebff;}#sk-container-id-1 div.sk-serial::before {content: \"\";position: absolute;border-left: 1px solid gray;box-sizing: border-box;top: 0;bottom: 0;left: 50%;z-index: 0;}#sk-container-id-1 div.sk-serial {display: flex;flex-direction: column;align-items: center;background-color: white;padding-right: 0.2em;padding-left: 0.2em;position: relative;}#sk-container-id-1 div.sk-item {position: relative;z-index: 1;}#sk-container-id-1 div.sk-parallel {display: flex;align-items: stretch;justify-content: center;background-color: white;position: relative;}#sk-container-id-1 div.sk-item::before, #sk-container-id-1 div.sk-parallel-item::before {content: \"\";position: absolute;border-left: 1px solid gray;box-sizing: border-box;top: 0;bottom: 0;left: 50%;z-index: -1;}#sk-container-id-1 div.sk-parallel-item {display: flex;flex-direction: column;z-index: 1;position: relative;background-color: white;}#sk-container-id-1 div.sk-parallel-item:first-child::after {align-self: flex-end;width: 50%;}#sk-container-id-1 div.sk-parallel-item:last-child::after {align-self: flex-start;width: 50%;}#sk-container-id-1 div.sk-parallel-item:only-child::after {width: 0;}#sk-container-id-1 div.sk-dashed-wrapped {border: 1px dashed gray;margin: 0 0.4em 0.5em 0.4em;box-sizing: border-box;padding-bottom: 0.4em;background-color: white;}#sk-container-id-1 div.sk-label label {font-family: monospace;font-weight: bold;display: inline-block;line-height: 1.2em;}#sk-container-id-1 div.sk-label-container {text-align: center;}#sk-container-id-1 div.sk-container {/* jupyter's `normalize.less` sets `[hidden] { display: none; }` but bootstrap.min.css set `[hidden] { display: none !important; }` so we also need the `!important` here to be able to override the default hidden behavior on the sphinx rendered scikit-learn.org. See: https://github.com/scikit-learn/scikit-learn/issues/21755 */display: inline-block !important;position: relative;}#sk-container-id-1 div.sk-text-repr-fallback {display: none;}</style><div id=\"sk-container-id-1\" class=\"sk-top-container\"><div class=\"sk-text-repr-fallback\"><pre>ExtraTreesClassifier(n_estimators=250, n_jobs=-1, random_state=0)</pre><b>In a Jupyter environment, please rerun this cell to show the HTML representation or trust the notebook. <br />On GitHub, the HTML representation is unable to render, please try loading this page with nbviewer.org.</b></div><div class=\"sk-container\" hidden><div class=\"sk-item\"><div class=\"sk-estimator sk-toggleable\"><input class=\"sk-toggleable__control sk-hidden--visually\" id=\"sk-estimator-id-1\" type=\"checkbox\" checked><label for=\"sk-estimator-id-1\" class=\"sk-toggleable__label sk-toggleable__label-arrow\">ExtraTreesClassifier</label><div class=\"sk-toggleable__content\"><pre>ExtraTreesClassifier(n_estimators=250, n_jobs=-1, random_state=0)</pre></div></div></div></div></div>"
      ],
      "text/plain": [
       "ExtraTreesClassifier(n_estimators=250, n_jobs=-1, random_state=0)"
      ]
     },
     "execution_count": 26,
     "metadata": {},
     "output_type": "execute_result"
    }
   ],
   "source": [
    "# model definition\n",
    "forest = en.ExtraTreesClassifier(n_estimators=250, random_state=0, n_jobs=-1)\n",
    "\n",
    "# data preparation\n",
    "x_train_n = df_train.drop(['id', 'response'], axis=1)\n",
    "y_train_n = y_train.values\n",
    "\n",
    "forest.fit(x_train_n, y_train_n)\n"
   ]
  },
  {
   "cell_type": "code",
   "execution_count": 27,
   "id": "e01eb7e7",
   "metadata": {
    "ExecuteTime": {
     "end_time": "2023-03-22T17:34:06.878163Z",
     "start_time": "2023-03-22T17:34:06.305826Z"
    }
   },
   "outputs": [
    {
     "name": "stdout",
     "output_type": "stream",
     "text": [
      "Feature ranking\n",
      "                 feature  importance\n",
      "0                vintage    0.280852\n",
      "0         annual_premium    0.246773\n",
      "0                    age    0.120505\n",
      "0            region_code    0.117920\n",
      "0         vehicle_damage    0.074413\n",
      "0   policy_sales_channel    0.067065\n",
      "0     previously_insured    0.050085\n",
      "0              age_group    0.014435\n",
      "0   vehicle_age_< 1 Year    0.012071\n",
      "0   vehicle_age_1-2 Year    0.006531\n",
      "0                 gender    0.006409\n",
      "0  vehicle_age_> 2 Years    0.002507\n",
      "0        driving_license    0.000435\n"
     ]
    },
    {
     "data": {
      "image/png": "[encoded data removed]",
      "text/plain": [
       "<Figure size 640x480 with 1 Axes>"
      ]
     },
     "metadata": {},
     "output_type": "display_data"
    }
   ],
   "source": [
    "importances = forest.feature_importances_\n",
    "\n",
    "std = np.std([tree.feature_importances_ for tree in forest.estimators_], axis=0)\n",
    "\n",
    "indices = np.argsort(importances)[::-1]\n",
    "\n",
    "# print the feature ranking\n",
    "\n",
    "print('Feature ranking')\n",
    "\n",
    "df = pd.DataFrame()\n",
    "\n",
    "for i, j in zip(x_train_n, forest.feature_importances_):\n",
    "    \n",
    "    aux = pd.DataFrame({'feature': i, 'importance': j}, index=[0])\n",
    "    \n",
    "    df = pd.concat([df, aux], axis=0)\n",
    "    \n",
    "print(df.sort_values('importance', ascending=False))\n",
    "\n",
    "# plot the impurity-based feature importances of the forest\n",
    "plt.figure()\n",
    "plt.title('Feature importances')\n",
    "plt.bar(range(x_train_n.shape[1]), importances[indices], color='r', yerr=std[indices], align='center')\n",
    "plt.xticks(range(x_train_n.shape[1]), indices)\n",
    "plt.xlim([-1, x_train_n.shape[1]])\n",
    "plt.show()"
   ]
  },
  {
   "cell_type": "markdown",
   "id": "475d398e",
   "metadata": {},
   "source": [
    "**Variaveis independentes selecionadas de acordo com sua importância:**\n",
    "\n",
    "- vintage\n",
    "- annual_premium\n",
    "- region_code\n",
    "- age\n",
    "- vehicle_damage\n",
    "- policy_sales_channel\n",
    "- previously_insured"
   ]
  },
  {
   "cell_type": "markdown",
   "id": "03733f31",
   "metadata": {},
   "source": [
    "## Machine Learning"
   ]
  },
  {
   "cell_type": "code",
   "execution_count": 28,
   "id": "c36e65c9",
   "metadata": {
    "ExecuteTime": {
     "end_time": "2023-03-22T17:34:54.235569Z",
     "start_time": "2023-03-22T17:34:54.203589Z"
    }
   },
   "outputs": [],
   "source": [
    "cols_selected = ['vintage', 'annual_premium', 'age', 'region_code', 'vehicle_damage', \n",
    "                 'policy_sales_channel', 'previously_insured']\n",
    "\n",
    "x_train = df_train[cols_selected]\n",
    "\n",
    "df_val = pd.concat([x_validation, y_validation], axis=1)\n",
    "x_val = df_val[cols_selected]\n",
    "y_val = y_validation.values"
   ]
  },
  {
   "cell_type": "markdown",
   "id": "47b0e9dc",
   "metadata": {},
   "source": [
    "### KNN"
   ]
  },
  {
   "cell_type": "code",
   "execution_count": 29,
   "id": "4fcf15a6",
   "metadata": {
    "ExecuteTime": {
     "end_time": "2023-03-22T17:35:04.418664Z",
     "start_time": "2023-03-22T17:34:55.142868Z"
    }
   },
   "outputs": [
    {
     "data": {
      "image/png": "[encoded data removed]",
      "text/plain": [
       "<Figure size 640x480 with 1 Axes>"
      ]
     },
     "metadata": {},
     "output_type": "display_data"
    }
   ],
   "source": [
    "# model definition\n",
    "knn_model = nh.KNeighborsClassifier(n_neighbors = 7)\n",
    "\n",
    "# model training\n",
    "knn_model.fit(x_train, y_train)\n",
    "\n",
    "#model prediction - PODER DE GENERALIZAÇÃO\n",
    "yhat_knn = knn_model.predict_proba(x_val)\n",
    "\n",
    "yhat_knn_pred = knn_model.predict(x_val)\n",
    "\n",
    "# metrica de ordenação \n",
    "# accumulative gain\n",
    "\n",
    "skplt.metrics.plot_cumulative_gain(y_val, yhat_knn);"
   ]
  },
  {
   "cell_type": "markdown",
   "id": "bcc402e3",
   "metadata": {},
   "source": [
    "Em 20% dos clientes (x), contém ~50% de todos os interessados em seguro veicular. No eixo (y) está ordenado pela probalidade de compra."
   ]
  },
  {
   "cell_type": "markdown",
   "id": "7ae7b1aa",
   "metadata": {},
   "source": [
    "### Logistic Regression"
   ]
  },
  {
   "cell_type": "code",
   "execution_count": 30,
   "id": "344c1d23",
   "metadata": {
    "ExecuteTime": {
     "end_time": "2023-03-22T17:35:04.968268Z",
     "start_time": "2023-03-22T17:35:04.420571Z"
    }
   },
   "outputs": [
    {
     "data": {
      "image/png": "[encoded data removed]",
      "text/plain": [
       "<Figure size 640x480 with 1 Axes>"
      ]
     },
     "metadata": {},
     "output_type": "display_data"
    }
   ],
   "source": [
    "# model definition\n",
    "lr_model = lm.LogisticRegression( random_state = 42)\n",
    "\n",
    "# model training \n",
    "lr_model.fit(x_train, y_train)\n",
    "\n",
    "# model prediction\n",
    "yhat_lr = lr_model.predict_proba(x_val)\n",
    "\n",
    "yhat_lr_pred = lr_model.predict(x_val)\n",
    "\n",
    "# metrica de ordenação \n",
    "# accumulative gain\n",
    "\n",
    "skplt.metrics.plot_cumulative_gain(y_val, yhat_lr);"
   ]
  },
  {
   "cell_type": "markdown",
   "id": "c7d6aa9b",
   "metadata": {},
   "source": [
    "### Random Forest "
   ]
  },
  {
   "cell_type": "code",
   "execution_count": 31,
   "id": "7bdd25a1",
   "metadata": {
    "ExecuteTime": {
     "end_time": "2023-03-22T17:36:04.854331Z",
     "start_time": "2023-03-22T17:35:04.971535Z"
    }
   },
   "outputs": [],
   "source": [
    "# model definition\n",
    "rf_model = en.RandomForestClassifier(n_estimators=1000, n_jobs=-1, random_state=42)\n",
    "\n",
    "# model training\n",
    "rf_model.fit(x_train, y_train)\n",
    "\n",
    "# model prediction\n",
    "yhat_rf = rf_model.predict_proba(x_val)\n",
    "\n",
    "yhat_rf_pred = rf_model.predict(x_val)"
   ]
  },
  {
   "cell_type": "code",
   "execution_count": 32,
   "id": "1880c9b7",
   "metadata": {
    "ExecuteTime": {
     "end_time": "2023-03-22T17:36:05.213192Z",
     "start_time": "2023-03-22T17:36:04.859926Z"
    }
   },
   "outputs": [
    {
     "data": {
      "image/png": "[encoded data removed]",
      "text/plain": [
       "<Figure size 640x480 with 1 Axes>"
      ]
     },
     "metadata": {},
     "output_type": "display_data"
    }
   ],
   "source": [
    "# acumulative gain \n",
    "skplt.metrics.plot_cumulative_gain(y_val, yhat_rf);"
   ]
  },
  {
   "cell_type": "markdown",
   "id": "09e1ddf5",
   "metadata": {
    "ExecuteTime": {
     "end_time": "2023-03-15T16:39:52.113141Z",
     "start_time": "2023-03-15T16:39:52.047300Z"
    }
   },
   "source": [
    "## Model Performace"
   ]
  },
  {
   "cell_type": "markdown",
   "id": "1701f02f",
   "metadata": {},
   "source": [
    "**Precision top k:**\n",
    "- Irá responder a seguinte pergunta:\n",
    "\n",
    "    - De todos os K (exemplos) que previ Verdadeiro, quantos realmente eram verdadeiros?\n",
    "\n",
    "\n",
    "**Recall top k:**\n",
    "- Irá responder a seguinte perguntas:\n",
    "\n",
    "    - De todos os exemplos que eram realmente VERDADEIROS, quantos eu previ que eram VERDADEIROS?"
   ]
  },
  {
   "cell_type": "code",
   "execution_count": 33,
   "id": "30d82384",
   "metadata": {
    "ExecuteTime": {
     "end_time": "2023-03-22T17:36:41.988941Z",
     "start_time": "2023-03-22T17:36:41.895758Z"
    }
   },
   "outputs": [],
   "source": [
    "y_model = [yhat_knn, yhat_lr, yhat_rf]\n",
    "\n",
    "precision_list = []\n",
    "recall_list = []\n",
    "accuracy_list = []\n",
    "\n",
    "for model in y_model:\n",
    "\n",
    "    # copy data\n",
    "    df4 = x_val.copy()\n",
    "    df4['response'] = y_val.copy()\n",
    "\n",
    "    # propensity score\n",
    "    df4['score'] = model[:,1].tolist()\n",
    "\n",
    "    # sorte clients by propensity score\n",
    "    df4 = df4.sort_values('score', ascending= False)\n",
    "\n",
    "    # compute precision at k\n",
    "    precision = precision_at_k(df4, k=1000)\n",
    "    precision_list.append(precision)\n",
    "\n",
    "    # compute precision at k\n",
    "    recall = recall_at_k(df4, k=1000)\n",
    "    recall_list.append(recall)\n",
    "\n",
    "    \n",
    "y_model_pred = [yhat_knn_pred, yhat_lr_pred, yhat_rf_pred]\n",
    "\n",
    "for pred in y_model_pred:\n",
    "    \n",
    "    # accuracy\n",
    "    accuracy = accuracy_score(y_val, pred)\n",
    "    accuracy_list.append(accuracy)\n",
    "    \n"
   ]
  },
  {
   "cell_type": "code",
   "execution_count": 34,
   "id": "d381d0b2",
   "metadata": {
    "ExecuteTime": {
     "end_time": "2023-03-22T17:36:42.922586Z",
     "start_time": "2023-03-22T17:36:42.912533Z"
    }
   },
   "outputs": [
    {
     "data": {
      "text/html": [
       "<div>\n",
       "<style scoped>\n",
       "    .dataframe tbody tr th:only-of-type {\n",
       "        vertical-align: middle;\n",
       "    }\n",
       "\n",
       "    .dataframe tbody tr th {\n",
       "        vertical-align: top;\n",
       "    }\n",
       "\n",
       "    .dataframe thead th {\n",
       "        text-align: right;\n",
       "    }\n",
       "</style>\n",
       "<table border=\"1\" class=\"dataframe\">\n",
       "  <thead>\n",
       "    <tr style=\"text-align: right;\">\n",
       "      <th></th>\n",
       "      <th>Model</th>\n",
       "      <th>Precision</th>\n",
       "      <th>Recall</th>\n",
       "      <th>Accuracy</th>\n",
       "    </tr>\n",
       "  </thead>\n",
       "  <tbody>\n",
       "    <tr>\n",
       "      <th>0</th>\n",
       "      <td>KNN</td>\n",
       "      <td>0.352647</td>\n",
       "      <td>0.047962</td>\n",
       "      <td>0.862541</td>\n",
       "    </tr>\n",
       "    <tr>\n",
       "      <th>1</th>\n",
       "      <td>Logistic Regression</td>\n",
       "      <td>0.300699</td>\n",
       "      <td>0.040897</td>\n",
       "      <td>0.879301</td>\n",
       "    </tr>\n",
       "    <tr>\n",
       "      <th>2</th>\n",
       "      <td>Random Forest</td>\n",
       "      <td>0.372627</td>\n",
       "      <td>0.050679</td>\n",
       "      <td>0.868297</td>\n",
       "    </tr>\n",
       "  </tbody>\n",
       "</table>\n",
       "</div>"
      ],
      "text/plain": [
       "                 Model  Precision    Recall  Accuracy\n",
       "0                  KNN   0.352647  0.047962  0.862541\n",
       "1  Logistic Regression   0.300699  0.040897  0.879301\n",
       "2        Random Forest   0.372627  0.050679  0.868297"
      ]
     },
     "execution_count": 34,
     "metadata": {},
     "output_type": "execute_result"
    }
   ],
   "source": [
    "performace = {'Model': ['KNN', 'Logistic Regression', 'Random Forest'],\n",
    "              'Precision': precision_list,\n",
    "              'Recall': recall_list,\n",
    "              'Accuracy': accuracy_list}\n",
    "\n",
    "df_performace = pd.DataFrame(performace)\n",
    "\n",
    "df_performace"
   ]
  },
  {
   "cell_type": "markdown",
   "id": "7428bdfa",
   "metadata": {},
   "source": [
    "## Cross Validation"
   ]
  },
  {
   "cell_type": "markdown",
   "id": "3ebdca63",
   "metadata": {},
   "source": [
    "- Realiza o Cross Validation, pois para melhor performace de aprendizado nesse caso de classificação de classes binária é preferivel uma amostragem estratificada. Tendo uma divisão de correta proporção das classes."
   ]
  },
  {
   "cell_type": "code",
   "execution_count": 38,
   "id": "aac908ab",
   "metadata": {
    "ExecuteTime": {
     "end_time": "2023-03-22T17:38:36.765508Z",
     "start_time": "2023-03-22T17:38:36.581229Z"
    }
   },
   "outputs": [],
   "source": [
    "# definition model\n",
    "knn = nh.KNeighborsClassifier(n_neighbors = 7)\n",
    "lr = lm.LogisticRegression( random_state = 42)\n",
    "rf = en.RandomForestClassifier(n_estimators=1000, n_jobs=-1, random_state=42)"
   ]
  },
  {
   "cell_type": "code",
   "execution_count": 39,
   "id": "e8682e97",
   "metadata": {
    "ExecuteTime": {
     "end_time": "2023-03-22T17:39:45.983281Z",
     "start_time": "2023-03-22T17:38:37.056184Z"
    }
   },
   "outputs": [],
   "source": [
    "knn_cv = cross_validation('KNN', knn, X_train, Y_train, 1000, verbose=False)\n",
    "lr_cv = cross_validation('Logistic Regression', lr, X_train, Y_train, 1000, verbose=False)\n",
    "rf_cv = cross_validation('Random Forest', rf, X_train, Y_train, 1000, verbose=False)\n",
    "\n",
    "results_cv = pd.concat([knn_cv, lr_cv, rf_cv])"
   ]
  },
  {
   "cell_type": "code",
   "execution_count": 40,
   "id": "f7f679f1",
   "metadata": {
    "ExecuteTime": {
     "end_time": "2023-03-22T17:39:45.994001Z",
     "start_time": "2023-03-22T17:39:45.985646Z"
    }
   },
   "outputs": [
    {
     "data": {
      "text/html": [
       "<div>\n",
       "<style scoped>\n",
       "    .dataframe tbody tr th:only-of-type {\n",
       "        vertical-align: middle;\n",
       "    }\n",
       "\n",
       "    .dataframe tbody tr th {\n",
       "        vertical-align: top;\n",
       "    }\n",
       "\n",
       "    .dataframe thead th {\n",
       "        text-align: right;\n",
       "    }\n",
       "</style>\n",
       "<table border=\"1\" class=\"dataframe\">\n",
       "  <thead>\n",
       "    <tr style=\"text-align: right;\">\n",
       "      <th></th>\n",
       "      <th>Precision @k CV</th>\n",
       "      <th>Recall @k CV</th>\n",
       "      <th>Accuracy</th>\n",
       "    </tr>\n",
       "  </thead>\n",
       "  <tbody>\n",
       "    <tr>\n",
       "      <th>KNN</th>\n",
       "      <td>0.35</td>\n",
       "      <td>0.047</td>\n",
       "      <td>0.861</td>\n",
       "    </tr>\n",
       "    <tr>\n",
       "      <th>Logistic Regression</th>\n",
       "      <td>0.31</td>\n",
       "      <td>0.041</td>\n",
       "      <td>0.877</td>\n",
       "    </tr>\n",
       "    <tr>\n",
       "      <th>Random Forest</th>\n",
       "      <td>0.35</td>\n",
       "      <td>0.047</td>\n",
       "      <td>0.866</td>\n",
       "    </tr>\n",
       "  </tbody>\n",
       "</table>\n",
       "</div>"
      ],
      "text/plain": [
       "                     Precision @k CV  Recall @k CV  Accuracy\n",
       "KNN                             0.35         0.047     0.861\n",
       "Logistic Regression             0.31         0.041     0.877\n",
       "Random Forest                   0.35         0.047     0.866"
      ]
     },
     "execution_count": 40,
     "metadata": {},
     "output_type": "execute_result"
    }
   ],
   "source": [
    "results_cv"
   ]
  },
  {
   "cell_type": "markdown",
   "id": "86751e11",
   "metadata": {},
   "source": [
    "## Hyperparameters fine tuning"
   ]
  },
  {
   "cell_type": "markdown",
   "id": "eed979a4",
   "metadata": {},
   "source": [
    "- Para descobrir o meu parametro do modelo escolhido, utilizarei o dataset de validação."
   ]
  },
  {
   "cell_type": "code",
   "execution_count": 41,
   "id": "09feb80b",
   "metadata": {
    "ExecuteTime": {
     "end_time": "2023-03-22T17:41:14.644882Z",
     "start_time": "2023-03-22T17:41:14.611260Z"
    }
   },
   "outputs": [],
   "source": [
    "cols_selected = ['vintage', 'annual_premium', 'age', 'region_code', 'vehicle_damage', \n",
    "                 'policy_sales_channel', 'previously_insured']\n",
    "\n",
    "x_val = df_val[cols_selected]\n",
    "y_val = y_validation.values"
   ]
  },
  {
   "cell_type": "markdown",
   "id": "6bd0cf6d",
   "metadata": {},
   "source": [
    "### GridSearch"
   ]
  },
  {
   "cell_type": "code",
   "execution_count": 42,
   "id": "d863b282",
   "metadata": {
    "ExecuteTime": {
     "end_time": "2023-03-22T17:41:16.126234Z",
     "start_time": "2023-03-22T17:41:16.119075Z"
    }
   },
   "outputs": [],
   "source": [
    "param_grid = {\n",
    "    'n_estimators': [1000,1500, 1700, 2500],\n",
    "    'max_features': ['sqrt', 'log2', None],\n",
    "    'max_depth': [3, 6, 9],\n",
    "    'max_leaf_nodes': [3, 6, 9],\n",
    "}"
   ]
  },
  {
   "cell_type": "code",
   "execution_count": 43,
   "id": "b5cf837e",
   "metadata": {
    "ExecuteTime": {
     "end_time": "2023-03-22T21:16:09.741146Z",
     "start_time": "2023-03-22T17:41:21.312607Z"
    }
   },
   "outputs": [
    {
     "name": "stdout",
     "output_type": "stream",
     "text": [
      "RandomForestClassifier(max_depth=3, max_leaf_nodes=3, n_estimators=1000)\n"
     ]
    }
   ],
   "source": [
    "grid_search = GridSearchCV(en.RandomForestClassifier(),\n",
    "                            param_grid=param_grid)\n",
    "\n",
    "grid_search.fit(x_val, y_val)\n",
    "\n",
    "print(grid_search.best_estimator_)\n"
   ]
  },
  {
   "cell_type": "markdown",
   "id": "f9e318d4",
   "metadata": {},
   "source": [
    "**Melhor parametro do GridSearch**\n",
    "\n",
    "RandomForestClassifier(max_depth=3, max_leaf_nodes=3, n_estimators=1000)"
   ]
  },
  {
   "cell_type": "markdown",
   "id": "834a5547",
   "metadata": {},
   "source": [
    "## Treinando o Modelo Random Forest"
   ]
  },
  {
   "cell_type": "markdown",
   "id": "0176cf1b",
   "metadata": {},
   "source": [
    "- Treinando o modelo com o dataset do Treino(60%) + Validation(20%).\n",
    "- Os melhores parametros selecionados pelo GridSearch"
   ]
  },
  {
   "cell_type": "code",
   "execution_count": 44,
   "id": "2bd8365a",
   "metadata": {
    "ExecuteTime": {
     "end_time": "2023-03-22T21:29:25.538132Z",
     "start_time": "2023-03-22T21:29:25.297163Z"
    }
   },
   "outputs": [],
   "source": [
    "x_test, y_test = preprocessing_cv(x_test, y_test)"
   ]
  },
  {
   "cell_type": "code",
   "execution_count": 48,
   "id": "a71066ce",
   "metadata": {
    "ExecuteTime": {
     "end_time": "2023-03-22T22:10:44.378547Z",
     "start_time": "2023-03-22T22:10:43.987431Z"
    }
   },
   "outputs": [],
   "source": [
    "X_train, Y_train = preprocessing_cv(X_train, Y_train)"
   ]
  },
  {
   "cell_type": "code",
   "execution_count": 49,
   "id": "a4582dce",
   "metadata": {
    "ExecuteTime": {
     "end_time": "2023-03-22T22:10:45.314786Z",
     "start_time": "2023-03-22T22:10:45.307796Z"
    }
   },
   "outputs": [
    {
     "data": {
      "text/html": [
       "<div>\n",
       "<style scoped>\n",
       "    .dataframe tbody tr th:only-of-type {\n",
       "        vertical-align: middle;\n",
       "    }\n",
       "\n",
       "    .dataframe tbody tr th {\n",
       "        vertical-align: top;\n",
       "    }\n",
       "\n",
       "    .dataframe thead th {\n",
       "        text-align: right;\n",
       "    }\n",
       "</style>\n",
       "<table border=\"1\" class=\"dataframe\">\n",
       "  <thead>\n",
       "    <tr style=\"text-align: right;\">\n",
       "      <th></th>\n",
       "      <th>vintage</th>\n",
       "      <th>annual_premium</th>\n",
       "      <th>age</th>\n",
       "      <th>region_code</th>\n",
       "      <th>vehicle_damage</th>\n",
       "      <th>policy_sales_channel</th>\n",
       "      <th>previously_insured</th>\n",
       "    </tr>\n",
       "  </thead>\n",
       "  <tbody>\n",
       "    <tr>\n",
       "      <th>76393</th>\n",
       "      <td>0.072664</td>\n",
       "      <td>0.207106</td>\n",
       "      <td>0.600000</td>\n",
       "      <td>0.126842</td>\n",
       "      <td>1</td>\n",
       "      <td>0.194199</td>\n",
       "      <td>0</td>\n",
       "    </tr>\n",
       "    <tr>\n",
       "      <th>231045</th>\n",
       "      <td>0.107266</td>\n",
       "      <td>0.900523</td>\n",
       "      <td>0.369231</td>\n",
       "      <td>0.188786</td>\n",
       "      <td>0</td>\n",
       "      <td>0.208754</td>\n",
       "      <td>1</td>\n",
       "    </tr>\n",
       "    <tr>\n",
       "      <th>296020</th>\n",
       "      <td>0.463668</td>\n",
       "      <td>0.235316</td>\n",
       "      <td>0.030769</td>\n",
       "      <td>0.061728</td>\n",
       "      <td>1</td>\n",
       "      <td>0.352923</td>\n",
       "      <td>0</td>\n",
       "    </tr>\n",
       "    <tr>\n",
       "      <th>261238</th>\n",
       "      <td>0.183391</td>\n",
       "      <td>-0.370906</td>\n",
       "      <td>0.061538</td>\n",
       "      <td>0.061798</td>\n",
       "      <td>0</td>\n",
       "      <td>0.352923</td>\n",
       "      <td>1</td>\n",
       "    </tr>\n",
       "    <tr>\n",
       "      <th>158340</th>\n",
       "      <td>0.349481</td>\n",
       "      <td>0.782030</td>\n",
       "      <td>0.169231</td>\n",
       "      <td>0.070341</td>\n",
       "      <td>0</td>\n",
       "      <td>0.352923</td>\n",
       "      <td>1</td>\n",
       "    </tr>\n",
       "  </tbody>\n",
       "</table>\n",
       "</div>"
      ],
      "text/plain": [
       "         vintage  annual_premium       age  region_code  vehicle_damage  \\\n",
       "76393   0.072664        0.207106  0.600000     0.126842               1   \n",
       "231045  0.107266        0.900523  0.369231     0.188786               0   \n",
       "296020  0.463668        0.235316  0.030769     0.061728               1   \n",
       "261238  0.183391       -0.370906  0.061538     0.061798               0   \n",
       "158340  0.349481        0.782030  0.169231     0.070341               0   \n",
       "\n",
       "        policy_sales_channel  previously_insured  \n",
       "76393               0.194199                   0  \n",
       "231045              0.208754                   1  \n",
       "296020              0.352923                   0  \n",
       "261238              0.352923                   1  \n",
       "158340              0.352923                   1  "
      ]
     },
     "execution_count": 49,
     "metadata": {},
     "output_type": "execute_result"
    }
   ],
   "source": [
    "X_train.head()"
   ]
  },
  {
   "cell_type": "code",
   "execution_count": 50,
   "id": "6caf3173",
   "metadata": {
    "ExecuteTime": {
     "end_time": "2023-03-22T22:11:13.038265Z",
     "start_time": "2023-03-22T22:10:49.274704Z"
    }
   },
   "outputs": [],
   "source": [
    "# model definition\n",
    "rf_model_final = en.RandomForestClassifier(n_estimators=1000, n_jobs=-1, random_state=42, \n",
    "                                     max_depth=3, max_leaf_nodes=3)\n",
    "\n",
    "# model training\n",
    "rf_model_final.fit(X_train, Y_train)\n",
    "\n",
    "# model prediction\n",
    "yhat_rf = rf_model_final.predict_proba(x_test)\n",
    "\n",
    "yhat_rf_pred = rf_model_final.predict(x_test)"
   ]
  },
  {
   "cell_type": "code",
   "execution_count": 51,
   "id": "b1877aa4",
   "metadata": {
    "ExecuteTime": {
     "end_time": "2023-03-22T22:11:32.168376Z",
     "start_time": "2023-03-22T22:11:32.130883Z"
    }
   },
   "outputs": [],
   "source": [
    "\n",
    "# copy data\n",
    "df_final = x_test.copy()\n",
    "df_final['response'] = y_test.copy()\n",
    "\n",
    "# propensity score\n",
    "df_final['score'] = yhat_rf[:,1].tolist()\n",
    "\n",
    "# sorte clients by propensity score\n",
    "df_final = df_final.sort_values('score', ascending= False)\n",
    "\n",
    "# compute precision at k\n",
    "precision = precision_at_k(df_final, k=1000)\n",
    "\n",
    "# compute precision at k\n",
    "recall = recall_at_k(df_final, k=1000)\n",
    "\n",
    "# accuracy\n",
    "accuracy = accuracy_score(y_test, yhat_rf_pred)\n",
    "\n"
   ]
  },
  {
   "cell_type": "code",
   "execution_count": 52,
   "id": "35d2c05e",
   "metadata": {
    "ExecuteTime": {
     "end_time": "2023-03-22T22:11:33.907225Z",
     "start_time": "2023-03-22T22:11:33.899491Z"
    }
   },
   "outputs": [
    {
     "data": {
      "text/html": [
       "<div>\n",
       "<style scoped>\n",
       "    .dataframe tbody tr th:only-of-type {\n",
       "        vertical-align: middle;\n",
       "    }\n",
       "\n",
       "    .dataframe tbody tr th {\n",
       "        vertical-align: top;\n",
       "    }\n",
       "\n",
       "    .dataframe thead th {\n",
       "        text-align: right;\n",
       "    }\n",
       "</style>\n",
       "<table border=\"1\" class=\"dataframe\">\n",
       "  <thead>\n",
       "    <tr style=\"text-align: right;\">\n",
       "      <th></th>\n",
       "      <th>Model</th>\n",
       "      <th>Precision</th>\n",
       "      <th>Recall</th>\n",
       "      <th>Accuracy</th>\n",
       "    </tr>\n",
       "  </thead>\n",
       "  <tbody>\n",
       "    <tr>\n",
       "      <th>0</th>\n",
       "      <td>Random Forest</td>\n",
       "      <td>0.34965</td>\n",
       "      <td>0.037821</td>\n",
       "      <td>0.878591</td>\n",
       "    </tr>\n",
       "  </tbody>\n",
       "</table>\n",
       "</div>"
      ],
      "text/plain": [
       "           Model  Precision    Recall  Accuracy\n",
       "0  Random Forest    0.34965  0.037821  0.878591"
      ]
     },
     "execution_count": 52,
     "metadata": {},
     "output_type": "execute_result"
    }
   ],
   "source": [
    "performace = {'Model': 'Random Forest',\n",
    "              'Precision': [precision],\n",
    "              'Recall': [recall],\n",
    "              'Accuracy': [accuracy]}\n",
    "\n",
    "df_performace = pd.DataFrame(performace)\n",
    "\n",
    "df_performace"
   ]
  },
  {
   "cell_type": "markdown",
   "id": "21cf081a",
   "metadata": {},
   "source": [
    "## Performace de Negócio"
   ]
  },
  {
   "cell_type": "markdown",
   "id": "b13d4d72",
   "metadata": {},
   "source": [
    "A solução do problema de negócio é apresentar uma lista ordenada de clientes mais propensos a aceitar a oferta da campanha de adiquirir um novo porduto da empresa, seguro de automovel, pois o time de vendas tem uma capacidade de realizar 20 mil ligações dentro do período da campanha."
   ]
  },
  {
   "cell_type": "markdown",
   "id": "3396711a",
   "metadata": {},
   "source": [
    "- Logo, de acordo com o modelo ligando para os 20mil clientes teremos 65% de clientes interessados, sendo aproximadamente 2,5 vezes melhor que fazendo ligações aleatórias."
   ]
  },
  {
   "cell_type": "code",
   "execution_count": 54,
   "id": "bf93d5ef",
   "metadata": {
    "ExecuteTime": {
     "end_time": "2023-03-22T22:17:39.336445Z",
     "start_time": "2023-03-22T22:17:39.315499Z"
    }
   },
   "outputs": [
    {
     "data": {
      "text/html": [
       "<div>\n",
       "<style scoped>\n",
       "    .dataframe tbody tr th:only-of-type {\n",
       "        vertical-align: middle;\n",
       "    }\n",
       "\n",
       "    .dataframe tbody tr th {\n",
       "        vertical-align: top;\n",
       "    }\n",
       "\n",
       "    .dataframe thead th {\n",
       "        text-align: right;\n",
       "    }\n",
       "</style>\n",
       "<table border=\"1\" class=\"dataframe\">\n",
       "  <thead>\n",
       "    <tr style=\"text-align: right;\">\n",
       "      <th></th>\n",
       "      <th>Model</th>\n",
       "      <th>Precision</th>\n",
       "      <th>Recall</th>\n",
       "      <th>Accuracy</th>\n",
       "    </tr>\n",
       "  </thead>\n",
       "  <tbody>\n",
       "    <tr>\n",
       "      <th>0</th>\n",
       "      <td>Random Forest</td>\n",
       "      <td>0.300485</td>\n",
       "      <td>0.649449</td>\n",
       "      <td>0.878591</td>\n",
       "    </tr>\n",
       "  </tbody>\n",
       "</table>\n",
       "</div>"
      ],
      "text/plain": [
       "           Model  Precision    Recall  Accuracy\n",
       "0  Random Forest   0.300485  0.649449  0.878591"
      ]
     },
     "execution_count": 54,
     "metadata": {},
     "output_type": "execute_result"
    }
   ],
   "source": [
    "# compute precision at k\n",
    "precision = precision_at_k(df_final, k=20000)\n",
    "\n",
    "# compute precision at k\n",
    "recall = recall_at_k(df_final, k=20000)\n",
    "\n",
    "# accuracy\n",
    "accuracy = accuracy_score(y_test, yhat_rf_pred)\n",
    "\n",
    "performace = {'Model': 'Random Forest',\n",
    "              'Precision': [precision],\n",
    "              'Recall': [recall],\n",
    "              'Accuracy': [accuracy]}\n",
    "\n",
    "df_performace = pd.DataFrame(performace)\n",
    "\n",
    "df_performace"
   ]
  },
  {
   "cell_type": "code",
   "execution_count": 55,
   "id": "cc938def",
   "metadata": {
    "ExecuteTime": {
     "end_time": "2023-03-22T22:17:45.438124Z",
     "start_time": "2023-03-22T22:17:45.286031Z"
    }
   },
   "outputs": [
    {
     "data": {
      "image/png": "[encoded data removed]",
      "text/plain": [
       "<Figure size 640x480 with 1 Axes>"
      ]
     },
     "metadata": {},
     "output_type": "display_data"
    }
   ],
   "source": [
    "# acumulative gain \n",
    "skplt.metrics.plot_cumulative_gain(y_test, yhat_rf)\n",
    "plt.axvline(20000/len(df_final), 0, 1, color='red', ls=':', lw=3)\n",
    "plt.show();"
   ]
  },
  {
   "cell_type": "code",
   "execution_count": 56,
   "id": "d8a6121b",
   "metadata": {
    "ExecuteTime": {
     "end_time": "2023-03-22T22:17:50.481693Z",
     "start_time": "2023-03-22T22:17:50.320864Z"
    }
   },
   "outputs": [
    {
     "data": {
      "image/png": "[encoded data removed]",
      "text/plain": [
       "<Figure size 640x480 with 1 Axes>"
      ]
     },
     "metadata": {},
     "output_type": "display_data"
    }
   ],
   "source": [
    "skplt.metrics.plot_lift_curve(y_test, yhat_rf)\n",
    "plt.axvline(20000/len(df_final), 0, 1, color='red', ls=':', lw=3)\n",
    "plt.show()"
   ]
  },
  {
   "cell_type": "code",
   "execution_count": null,
   "id": "fb7112cf",
   "metadata": {},
   "outputs": [],
   "source": []
  },
  {
   "cell_type": "markdown",
   "id": "691deee7",
   "metadata": {},
   "source": [
    "**Modelo escolhido foi Random Forest.**"
   ]
  },
  {
   "cell_type": "code",
   "execution_count": 59,
   "id": "946519ea",
   "metadata": {
    "ExecuteTime": {
     "end_time": "2023-03-22T22:22:14.139675Z",
     "start_time": "2023-03-22T22:22:14.112656Z"
    }
   },
   "outputs": [],
   "source": [
    "# Salvar o modelo final\n",
    "\n",
    "pickle.dump(rf_model_final, open('../web_app/models/rf_model_final.pkl', 'wb'))"
   ]
  },
  {
   "cell_type": "code",
   "execution_count": null,
   "id": "143e7858",
   "metadata": {},
   "outputs": [],
   "source": []
  }
 ],
 "metadata": {
  "kernelspec": {
   "display_name": "PA004",
   "language": "python",
   "name": "pa004"
  },
  "language_info": {
   "codemirror_mode": {
    "name": "ipython",
    "version": 3
   },
   "file_extension": ".py",
   "mimetype": "text/x-python",
   "name": "python",
   "nbconvert_exporter": "python",
   "pygments_lexer": "ipython3",
   "version": "3.10.0"
  }
 },
 "nbformat": 4,
 "nbformat_minor": 5
}
